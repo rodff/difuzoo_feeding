{
 "metadata": {
  "language_info": {
   "codemirror_mode": {
    "name": "ipython",
    "version": 3
   },
   "file_extension": ".py",
   "mimetype": "text/x-python",
   "name": "python",
   "nbconvert_exporter": "python",
   "pygments_lexer": "ipython3",
   "version": "3.7.6-final"
  },
  "orig_nbformat": 2,
  "kernelspec": {
   "name": "python3",
   "display_name": "Python 3"
  }
 },
 "nbformat": 4,
 "nbformat_minor": 2,
 "cells": [
  {
   "source": [
    "# Upload of subjects through panoptes CLI"
   ],
   "cell_type": "markdown",
   "metadata": {}
  },
  {
   "source": [
    "Conda environment seems to be a good choice here, so:\n",
    "\n",
    "`conda create -n zooniverse`\n",
    "\n",
    "`source activate zooniverse`\n",
    "\n",
    "Now we install panoptescli in the env:\n",
    "\n",
    "`pip install panoptescli`\n"
   ],
   "cell_type": "markdown",
   "metadata": {}
  },
  {
   "source": [
    "Now you should login:\n",
    "\n",
    "`panoptes configure`"
   ],
   "cell_type": "markdown",
   "metadata": {}
  },
  {
   "source": [
    "Now, suppose you have a manifest.csv containing the subjects metadata, and want so upload it to project 65668, then you should use:\n",
    "\n",
    "`panoptes subject-set upload-subjects 65668 manifest.csv`"
   ],
   "cell_type": "markdown",
   "metadata": {}
  },
  {
   "cell_type": "code",
   "execution_count": null,
   "metadata": {},
   "outputs": [],
   "source": []
  }
 ]
}